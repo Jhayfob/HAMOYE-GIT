{
 "cells": [
  {
   "cell_type": "code",
   "execution_count": 1,
   "id": "aa23fcff",
   "metadata": {},
   "outputs": [
    {
     "name": "stdout",
     "output_type": "stream",
     "text": [
      "i love coding\n"
     ]
    }
   ],
   "source": [
    "print('i'+' love'+' coding')"
   ]
  },
  {
   "cell_type": "code",
   "execution_count": 2,
   "id": "93a3eca4",
   "metadata": {},
   "outputs": [],
   "source": [
    "name='Femi'"
   ]
  },
  {
   "cell_type": "code",
   "execution_count": 3,
   "id": "42c012f5",
   "metadata": {},
   "outputs": [
    {
     "name": "stdout",
     "output_type": "stream",
     "text": [
      "my name is Femi\n"
     ]
    }
   ],
   "source": [
    "print(f\"my name is {name}\")"
   ]
  },
  {
   "cell_type": "code",
   "execution_count": 4,
   "id": "cee6d3ae",
   "metadata": {},
   "outputs": [
    {
     "name": "stdout",
     "output_type": "stream",
     "text": [
      "my name is Femi and I am 20 years old \n"
     ]
    }
   ],
   "source": [
    "print('my name is {} and I am {} years old '.format(name, 20))"
   ]
  },
  {
   "cell_type": "code",
   "execution_count": 5,
   "id": "0fe0f72a",
   "metadata": {},
   "outputs": [],
   "source": [
    "first_name=\"shade\"\n"
   ]
  },
  {
   "cell_type": "markdown",
   "id": "bf4d8247",
   "metadata": {},
   "source": [
    "# string method"
   ]
  },
  {
   "cell_type": "code",
   "execution_count": 6,
   "id": "501e925a",
   "metadata": {},
   "outputs": [
    {
     "data": {
      "text/plain": [
       "'SHADE'"
      ]
     },
     "execution_count": 6,
     "metadata": {},
     "output_type": "execute_result"
    }
   ],
   "source": [
    "first_name.upper()"
   ]
  },
  {
   "cell_type": "code",
   "execution_count": 7,
   "id": "332912c8",
   "metadata": {},
   "outputs": [
    {
     "data": {
      "text/plain": [
       "'Shade'"
      ]
     },
     "execution_count": 7,
     "metadata": {},
     "output_type": "execute_result"
    }
   ],
   "source": [
    "first_name.title()"
   ]
  },
  {
   "cell_type": "code",
   "execution_count": 8,
   "id": "5581144d",
   "metadata": {},
   "outputs": [
    {
     "data": {
      "text/plain": [
       "'rhade'"
      ]
     },
     "execution_count": 8,
     "metadata": {},
     "output_type": "execute_result"
    }
   ],
   "source": [
    "first_name.replace('s','r')"
   ]
  },
  {
   "cell_type": "code",
   "execution_count": 9,
   "id": "44a822a3",
   "metadata": {},
   "outputs": [
    {
     "data": {
      "text/plain": [
       "24"
      ]
     },
     "execution_count": 9,
     "metadata": {},
     "output_type": "execute_result"
    }
   ],
   "source": [
    "intern=\"welcome to hamoye internship\"\n",
    "intern.find('ship')"
   ]
  },
  {
   "cell_type": "code",
   "execution_count": 10,
   "id": "f6ad0b0b",
   "metadata": {},
   "outputs": [],
   "source": [
    "li=[3,8,7,4]"
   ]
  },
  {
   "cell_type": "code",
   "execution_count": 11,
   "id": "0f390c5f",
   "metadata": {},
   "outputs": [
    {
     "data": {
      "text/plain": [
       "[3, 8, 7, 4, 9]"
      ]
     },
     "execution_count": 11,
     "metadata": {},
     "output_type": "execute_result"
    }
   ],
   "source": [
    "li.append(9)\n",
    "li"
   ]
  },
  {
   "cell_type": "code",
   "execution_count": 12,
   "id": "79b8670f",
   "metadata": {},
   "outputs": [
    {
     "data": {
      "text/plain": [
       "[3, 8, 7, 4, 9, 9, 8]"
      ]
     },
     "execution_count": 12,
     "metadata": {},
     "output_type": "execute_result"
    }
   ],
   "source": [
    "li.extend([9,8])\n",
    "li"
   ]
  },
  {
   "cell_type": "code",
   "execution_count": 13,
   "id": "8127172e",
   "metadata": {},
   "outputs": [
    {
     "name": "stdout",
     "output_type": "stream",
     "text": [
      "John is 3\n"
     ]
    }
   ],
   "source": [
    "print(\"John is {}\".format(min(li)))"
   ]
  },
  {
   "cell_type": "code",
   "execution_count": 14,
   "id": "18eb3c81",
   "metadata": {},
   "outputs": [
    {
     "data": {
      "text/plain": [
       "['p', 'y', 't', 'h', 'o', 'n']"
      ]
     },
     "execution_count": 14,
     "metadata": {},
     "output_type": "execute_result"
    }
   ],
   "source": [
    "b=\"python\"\n",
    "list1=list(b)\n",
    "list1"
   ]
  },
  {
   "cell_type": "code",
   "execution_count": 15,
   "id": "45a80a49",
   "metadata": {},
   "outputs": [
    {
     "data": {
      "text/plain": [
       "('ade', 3, 'shade', 5)"
      ]
     },
     "execution_count": 15,
     "metadata": {},
     "output_type": "execute_result"
    }
   ],
   "source": [
    "li1=('ade',3)\n",
    "li2=('shade',5)\n",
    "li3=li1+li2\n",
    "li3"
   ]
  },
  {
   "cell_type": "code",
   "execution_count": 16,
   "id": "86c208f9",
   "metadata": {},
   "outputs": [
    {
     "data": {
      "text/plain": [
       "{6, 8, 9}"
      ]
     },
     "execution_count": 16,
     "metadata": {},
     "output_type": "execute_result"
    }
   ],
   "source": [
    "li=[6,8,9,9]\n",
    "se=set(li)\n",
    "se"
   ]
  },
  {
   "cell_type": "code",
   "execution_count": 17,
   "id": "adaaa1a9",
   "metadata": {},
   "outputs": [
    {
     "data": {
      "text/plain": [
       "{6, 8, 9}"
      ]
     },
     "execution_count": 17,
     "metadata": {},
     "output_type": "execute_result"
    }
   ],
   "source": [
    "li=[6,8,9,9]\n",
    "se=set([6,8,9,9])\n",
    "se"
   ]
  },
  {
   "cell_type": "code",
   "execution_count": 18,
   "id": "9b8a32ac",
   "metadata": {},
   "outputs": [
    {
     "data": {
      "text/plain": [
       "{'GREEN', 'ORANGE', 'PINK', 'RED'}"
      ]
     },
     "execution_count": 18,
     "metadata": {},
     "output_type": "execute_result"
    }
   ],
   "source": [
    "A={'RED','GREEN','BLUE'}\n",
    "B={'BLUE','PINK','ORANGE'}\n",
    "A^B"
   ]
  },
  {
   "cell_type": "code",
   "execution_count": 19,
   "id": "c1c93cbf",
   "metadata": {},
   "outputs": [
    {
     "data": {
      "text/plain": [
       "{'GREEN', 'RED'}"
      ]
     },
     "execution_count": 19,
     "metadata": {},
     "output_type": "execute_result"
    }
   ],
   "source": [
    "A={'RED','GREEN','BLUE'}\n",
    "B={'BLUE','PINK','ORANGE'}\n",
    "A-B"
   ]
  },
  {
   "cell_type": "code",
   "execution_count": 20,
   "id": "fc5917dd",
   "metadata": {},
   "outputs": [
    {
     "data": {
      "text/plain": [
       "{'BLUE', 'GREEN', 'ORANGE', 'PINK', 'RED'}"
      ]
     },
     "execution_count": 20,
     "metadata": {},
     "output_type": "execute_result"
    }
   ],
   "source": [
    "A={'RED','GREEN','BLUE'}\n",
    "B={'BLUE','PINK','ORANGE'}\n",
    "A|B"
   ]
  },
  {
   "cell_type": "markdown",
   "id": "ed2bbe30",
   "metadata": {},
   "source": [
    "# DICTIONARY"
   ]
  },
  {
   "cell_type": "code",
   "execution_count": 21,
   "id": "7634c1c8",
   "metadata": {},
   "outputs": [
    {
     "ename": "NameError",
     "evalue": "name 'keys' is not defined",
     "output_type": "error",
     "traceback": [
      "\u001b[1;31m---------------------------------------------------------------------------\u001b[0m",
      "\u001b[1;31mNameError\u001b[0m                                 Traceback (most recent call last)",
      "\u001b[1;32m~\\AppData\\Local\\Temp/ipykernel_4848/3544062101.py\u001b[0m in \u001b[0;36m<module>\u001b[1;34m\u001b[0m\n\u001b[0;32m      1\u001b[0m \u001b[0mkey\u001b[0m\u001b[1;33m=\u001b[0m\u001b[1;33m[\u001b[0m\u001b[1;34m'shade'\u001b[0m\u001b[1;33m,\u001b[0m\u001b[1;34m'Bola'\u001b[0m\u001b[1;33m]\u001b[0m\u001b[1;33m\u001b[0m\u001b[1;33m\u001b[0m\u001b[0m\n\u001b[0;32m      2\u001b[0m \u001b[0mValues\u001b[0m\u001b[1;33m=\u001b[0m\u001b[1;33m[\u001b[0m\u001b[1;36m2\u001b[0m\u001b[1;33m,\u001b[0m\u001b[1;36m3\u001b[0m\u001b[1;33m]\u001b[0m\u001b[1;33m\u001b[0m\u001b[1;33m\u001b[0m\u001b[0m\n\u001b[1;32m----> 3\u001b[1;33m \u001b[0mdic\u001b[0m\u001b[1;33m=\u001b[0m\u001b[0mdict\u001b[0m\u001b[1;33m(\u001b[0m\u001b[0mzip\u001b[0m\u001b[1;33m(\u001b[0m\u001b[0mkeys\u001b[0m\u001b[1;33m,\u001b[0m\u001b[0mValues\u001b[0m\u001b[1;33m)\u001b[0m\u001b[1;33m)\u001b[0m\u001b[1;33m\u001b[0m\u001b[1;33m\u001b[0m\u001b[0m\n\u001b[0m\u001b[0;32m      4\u001b[0m \u001b[0mdic\u001b[0m\u001b[1;33m\u001b[0m\u001b[1;33m\u001b[0m\u001b[0m\n",
      "\u001b[1;31mNameError\u001b[0m: name 'keys' is not defined"
     ]
    }
   ],
   "source": [
    "key=['shade','Bola']\n",
    "Values=[2,3]\n",
    "dic=dict(zip(keys,Values))\n",
    "dic"
   ]
  },
  {
   "cell_type": "code",
   "execution_count": 22,
   "id": "3887f108",
   "metadata": {},
   "outputs": [
    {
     "ename": "NameError",
     "evalue": "name 'dic' is not defined",
     "output_type": "error",
     "traceback": [
      "\u001b[1;31m---------------------------------------------------------------------------\u001b[0m",
      "\u001b[1;31mNameError\u001b[0m                                 Traceback (most recent call last)",
      "\u001b[1;32m~\\AppData\\Local\\Temp/ipykernel_4848/4155696876.py\u001b[0m in \u001b[0;36m<module>\u001b[1;34m\u001b[0m\n\u001b[1;32m----> 1\u001b[1;33m \u001b[0mdic\u001b[0m\u001b[1;33m[\u001b[0m\u001b[1;34m'Bola'\u001b[0m\u001b[1;33m]\u001b[0m\u001b[1;33m\u001b[0m\u001b[1;33m\u001b[0m\u001b[0m\n\u001b[0m",
      "\u001b[1;31mNameError\u001b[0m: name 'dic' is not defined"
     ]
    }
   ],
   "source": [
    "dic['Bola']"
   ]
  },
  {
   "cell_type": "code",
   "execution_count": 23,
   "id": "87652bb0",
   "metadata": {},
   "outputs": [],
   "source": [
    "dict1={'shade': 2, 'Bola': 3}\n",
    "dict2={'Ade': 2, 'Shola': 3}"
   ]
  },
  {
   "cell_type": "code",
   "execution_count": 24,
   "id": "a32b4280",
   "metadata": {},
   "outputs": [
    {
     "data": {
      "text/plain": [
       "{'shade': 2, 'Bola': 3, 'Ade': 2, 'Shola': 3}"
      ]
     },
     "execution_count": 24,
     "metadata": {},
     "output_type": "execute_result"
    }
   ],
   "source": [
    "dict1.update(dict2)\n",
    "dict1"
   ]
  },
  {
   "cell_type": "code",
   "execution_count": 25,
   "id": "e211b5a1",
   "metadata": {},
   "outputs": [
    {
     "data": {
      "text/plain": [
       "{'shade': 2, 'Bola': 3, 'Ade': 2, 'Shola': 3}"
      ]
     },
     "execution_count": 25,
     "metadata": {},
     "output_type": "execute_result"
    }
   ],
   "source": [
    "dict1.get('shade')\n",
    "dict1"
   ]
  },
  {
   "cell_type": "markdown",
   "id": "8fed539f",
   "metadata": {},
   "source": [
    "# while loop"
   ]
  },
  {
   "cell_type": "code",
   "execution_count": 26,
   "id": "ca03555d",
   "metadata": {},
   "outputs": [
    {
     "name": "stdout",
     "output_type": "stream",
     "text": [
      "4\n",
      "3\n",
      "1\n",
      "0\n",
      "loop ended\n"
     ]
    }
   ],
   "source": [
    "n=5\n",
    "while n>0:\n",
    "    n=n-1\n",
    "    if n==2:\n",
    "        continue\n",
    "    print(n)\n",
    "print('loop ended')"
   ]
  },
  {
   "cell_type": "code",
   "execution_count": 27,
   "id": "d7b71157",
   "metadata": {},
   "outputs": [
    {
     "name": "stdout",
     "output_type": "stream",
     "text": [
      "Femi is now a Data Scientist\n",
      "Timi is now a Web Developer\n"
     ]
    }
   ],
   "source": [
    "def func(name,job):\n",
    "    print(f\"{name} is now a {job}\")\n",
    "func('Femi', \"Data Scientist\")\n",
    "func('Timi', \"Web Developer\")"
   ]
  },
  {
   "cell_type": "code",
   "execution_count": 28,
   "id": "52b54c55",
   "metadata": {},
   "outputs": [],
   "source": [
    "class Car:\n",
    "    pass"
   ]
  },
  {
   "cell_type": "code",
   "execution_count": 29,
   "id": "37338e0a",
   "metadata": {},
   "outputs": [],
   "source": [
    "class Car:\n",
    "    def _init_(self):\n",
    "        pass"
   ]
  },
  {
   "cell_type": "code",
   "execution_count": 35,
   "id": "64775f2e",
   "metadata": {},
   "outputs": [
    {
     "ename": "AttributeError",
     "evalue": "'list' object has no attribute 'update'",
     "output_type": "error",
     "traceback": [
      "\u001b[1;31m---------------------------------------------------------------------------\u001b[0m",
      "\u001b[1;31mAttributeError\u001b[0m                            Traceback (most recent call last)",
      "\u001b[1;32m~\\AppData\\Local\\Temp/ipykernel_4848/2282830297.py\u001b[0m in \u001b[0;36m<module>\u001b[1;34m\u001b[0m\n\u001b[0;32m      1\u001b[0m \u001b[0mA\u001b[0m \u001b[1;33m=\u001b[0m \u001b[1;33m[\u001b[0m\u001b[1;36m3\u001b[0m\u001b[1;33m,\u001b[0m\u001b[1;36m1\u001b[0m\u001b[1;33m,\u001b[0m\u001b[1;36m0\u001b[0m\u001b[1;33m,\u001b[0m\u001b[1;36m7\u001b[0m\u001b[1;33m]\u001b[0m\u001b[1;33m\u001b[0m\u001b[1;33m\u001b[0m\u001b[0m\n\u001b[0;32m      2\u001b[0m \u001b[0mB\u001b[0m \u001b[1;33m=\u001b[0m \u001b[1;33m[\u001b[0m\u001b[1;36m7\u001b[0m\u001b[1;33m,\u001b[0m\u001b[1;36m7\u001b[0m\u001b[1;33m,\u001b[0m\u001b[1;36m8\u001b[0m\u001b[1;33m]\u001b[0m\u001b[1;33m\u001b[0m\u001b[1;33m\u001b[0m\u001b[0m\n\u001b[1;32m----> 3\u001b[1;33m \u001b[0mC\u001b[0m \u001b[1;33m=\u001b[0m \u001b[0mA\u001b[0m\u001b[1;33m.\u001b[0m\u001b[0mupdate\u001b[0m\u001b[1;33m(\u001b[0m\u001b[0mB\u001b[0m\u001b[1;33m)\u001b[0m\u001b[1;33m\u001b[0m\u001b[1;33m\u001b[0m\u001b[0m\n\u001b[0m\u001b[0;32m      4\u001b[0m \u001b[0mprint\u001b[0m\u001b[1;33m(\u001b[0m\u001b[0mC\u001b[0m\u001b[1;33m)\u001b[0m\u001b[1;33m\u001b[0m\u001b[1;33m\u001b[0m\u001b[0m\n",
      "\u001b[1;31mAttributeError\u001b[0m: 'list' object has no attribute 'update'"
     ]
    }
   ],
   "source": [
    "A = [3,1,0,7]\n",
    "B = [7,7,8]\n",
    "C = A.update(B)\n",
    "print(C)"
   ]
  },
  {
   "cell_type": "code",
   "execution_count": 31,
   "id": "be803dfc",
   "metadata": {},
   "outputs": [],
   "source": [
    "import pandas as pds"
   ]
  },
  {
   "cell_type": "code",
   "execution_count": null,
   "id": "0d7c32c7",
   "metadata": {},
   "outputs": [],
   "source": []
  }
 ],
 "metadata": {
  "kernelspec": {
   "display_name": "Python 3 (ipykernel)",
   "language": "python",
   "name": "python3"
  },
  "language_info": {
   "codemirror_mode": {
    "name": "ipython",
    "version": 3
   },
   "file_extension": ".py",
   "mimetype": "text/x-python",
   "name": "python",
   "nbconvert_exporter": "python",
   "pygments_lexer": "ipython3",
   "version": "3.9.7"
  }
 },
 "nbformat": 4,
 "nbformat_minor": 5
}
